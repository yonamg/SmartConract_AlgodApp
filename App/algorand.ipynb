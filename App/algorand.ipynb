{
 "cells": [
  {
   "cell_type": "code",
   "execution_count": 2,
   "metadata": {},
   "outputs": [],
   "source": [
    "#import library\n",
    "from algosdk import account\n",
    "from algosdk import mnemonic"
   ]
  },
  {
   "cell_type": "code",
   "execution_count": 3,
   "metadata": {},
   "outputs": [],
   "source": [
    "pri_key, pub_add = account.generate_account()"
   ]
  },
  {
   "cell_type": "code",
   "execution_count": 4,
   "metadata": {},
   "outputs": [
    {
     "name": "stdout",
     "output_type": "stream",
     "text": [
      "Base64 Private Key: Ckxij0NXmHc0yW8tB1YFSEorpXklZq8v6p8rkf6PPTggtngSBP+BFtsOwDhDg2fukZlUKNPFSyV1d+gu2T4o6g==\n",
      "Public Algorand Address: EC3HQEQE76ARNWYOYA4EHA3H52IZSVBI2PCUWJLVO7UC5WJ6FDVCS2VIRI\n",
      "\n"
     ]
    }
   ],
   "source": [
    "print(\"Base64 Private Key: {}\\nPublic Algorand Address: {}\\n\".format(pri_key, pub_add))"
   ]
  },
  {
   "cell_type": "code",
   "execution_count": 5,
   "metadata": {},
   "outputs": [],
   "source": [
    "m = mnemonic.from_private_key(pri_key)"
   ]
  },
  {
   "cell_type": "code",
   "execution_count": 9,
   "metadata": {},
   "outputs": [
    {
     "name": "stdout",
     "output_type": "stream",
     "text": [
      "Account 1\n",
      "BHLRJEAGJWMMNBTNXRMOXGBPHXQOHGAXGXJKPRWIL7OW4XMSTUJPPXC2VI\n",
      "Account 2\n",
      "73JHBEMFUTVOQS4KKTKMTULK5RXFSSQJSIBARIPNVDE762NFI7CAS4LAWA\n",
      "Account 3\n",
      "GL77XB7VCTTVW3VANVATWAUOWCGFPLFRTZ7TS5PBTH3ZTQZRWZN27XD6CM\n",
      "\n",
      "Copy off accounts above and add TestNet Algo funds using the TestNet Dispenser at https://bank.testnet.algorand.network/\n",
      "copy off the following mnemonic code for use later\n",
      "\n",
      "mnemonic1 = \"saddle season vanish icon public amused bless more north member industry barely celery nasty civil antique smoke report same ski act erode pigeon abandon boring\"\n",
      "mnemonic2 = \"armed drive angry average patrol rate dawn inquiry tuition panda security observe use zoo heavy job indicate shoot trigger ridge feed auction mesh abandon shiver\"\n",
      "mnemonic3 = \"matter media mask better apart grass april birth steak canal custom pear uncle inject bid cash path genre hidden caught bar side mind able debris\"\n"
     ]
    }
   ],
   "source": [
    "import json\n",
    "from algosdk import account, mnemonic\n",
    "\n",
    "acct = account.generate_account()\n",
    "address1 = acct[1]\n",
    "print(\"Account 1\")\n",
    "print(address1)\n",
    "mnemonic1 = mnemonic.from_private_key(acct[0])\n",
    "\n",
    "print(\"Account 2\")\n",
    "acct = account.generate_account()\n",
    "address2 = acct[1]\n",
    "print(address2)\n",
    "mnemonic2 = mnemonic.from_private_key(acct[0])\n",
    "\n",
    "print(\"Account 3\")\n",
    "acct = account.generate_account()\n",
    "address3 = acct[1]\n",
    "print(address3)\n",
    "mnemonic3 = mnemonic.from_private_key(acct[0])\n",
    "print (\"\")\n",
    "print(\"Copy off accounts above and add TestNet Algo funds using the TestNet Dispenser at https://bank.testnet.algorand.network/\")\n",
    "print(\"copy off the following mnemonic code for use later\")\n",
    "print(\"\")\n",
    "print(\"mnemonic1 = \\\"{}\\\"\".format(mnemonic1))\n",
    "print(\"mnemonic2 = \\\"{}\\\"\".format(mnemonic2))\n",
    "print(\"mnemonic3 = \\\"{}\\\"\".format(mnemonic3))"
   ]
  },
  {
   "cell_type": "code",
   "execution_count": 11,
   "metadata": {},
   "outputs": [
    {
     "name": "stdout",
     "output_type": "stream",
     "text": [
      "Account balance: 0 microAlgos\n",
      "\n"
     ]
    }
   ],
   "source": [
    "from algosdk.v2client import algod\n",
    "\n",
    "def first_transaction_example(private_key, my_address):\n",
    "    algod_address = \"http://localhost:4001\"\n",
    "    algod_token = \"aaaaaaaaaaaaaaaaaaaaaaaaaaaaaaaaaaaaaaaaaaaaaaaaaaaaaaaaaaaaaaaa\"\n",
    "    algod_client = algod.AlgodClient(algod_token, algod_address)\n",
    "    account_info = algod_client.account_info(my_address)\n",
    "    print(\"Account balance: {} microAlgos\".format(account_info.get('amount')) + \"\\n\")\n",
    "    # print(json.dumps(account_info, indent=2))\n",
    "\n",
    "first_transaction_example(acct[0],address3)"
   ]
  }
 ],
 "metadata": {
  "kernelspec": {
   "display_name": "Python 3.10.6 64-bit",
   "language": "python",
   "name": "python3"
  },
  "language_info": {
   "codemirror_mode": {
    "name": "ipython",
    "version": 3
   },
   "file_extension": ".py",
   "mimetype": "text/x-python",
   "name": "python",
   "nbconvert_exporter": "python",
   "pygments_lexer": "ipython3",
   "version": "3.10.6"
  },
  "orig_nbformat": 4,
  "vscode": {
   "interpreter": {
    "hash": "916dbcbb3f70747c44a77c7bcd40155683ae19c65e1c03b4aa3499c5328201f1"
   }
  }
 },
 "nbformat": 4,
 "nbformat_minor": 2
}
